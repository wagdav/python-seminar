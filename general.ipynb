{
 "metadata": {
  "name": "general"
 },
 "nbformat": 3,
 "nbformat_minor": 0,
 "worksheets": [
  {
   "cells": [
    {
     "cell_type": "markdown",
     "metadata": {},
     "source": [
      "#Scientific computing in Python"
     ]
    },
    {
     "cell_type": "code",
     "collapsed": false,
     "input": [
      "import math\n",
      "print 'hello, world sin(42)', math.sin(42)"
     ],
     "language": "python",
     "metadata": {},
     "outputs": [
      {
       "output_type": "stream",
       "stream": "stdout",
       "text": [
        "hello, world sin(42) -0.916521547916\n"
       ]
      }
     ],
     "prompt_number": 1
    },
    {
     "cell_type": "markdown",
     "metadata": {},
     "source": [
      "## Introduction\n",
      "[Python](http://www.python.org) is a *general* purpose programming language (appeared in 1991).  Python is ubiquitous, used by  YouTube, Dropbox, etc.\n",
      "\n",
      "From ~10 years ago tools mature tools for scientific application starting to emerge \n",
      "\n",
      "* [Matplotlib](http://matplotlib.org/gallery) for plots\n",
      "* [Numpy](http://www.numpy.org) and [SciPy](http://www.scipy.org) for solving linear systems, fft, minimization etc.\n",
      "* [Sympy](http://docs.sympy.org/0.7.2/tutorial.html) for symbolic mathematics\n",
      "\n",
      "Learning Python\n",
      "\n",
      "* [Python tutorial](http://docs.python.org/2/tutorial/)\n",
      "* Use Google"
     ]
    },
    {
     "cell_type": "markdown",
     "metadata": {},
     "source": [
      "Ways to access the Python interpreter\n",
      "\n",
      "    $ python\n",
      "    $ ipython\n",
      "    $ ipython notebook\n",
      "\n",
      "What you see in the following could be typed directly for the interpreter or saved in a file."
     ]
    },
    {
     "cell_type": "markdown",
     "metadata": {},
     "source": [
      "## Python is a high-level programming language\n",
      "\n",
      "Example: convert a string from lowecaser to uppercase\n",
      "\n",
      "    \"I wish it was apero already\" -> \"I WISH IT WAS APERO ALREADY\"\n",
      "\n",
      "The implementation in C\n",
      "\n",
      "    #include <stdio.h>\n",
      "    #include <string.h>\n",
      "\n",
      "    int main(void) {\n",
      "        const char *mystr = \"I wish it was apero already\";\n",
      "        int i;\n",
      "\n",
      "        for(i = 0; i < strlen(mystr); i++) {\n",
      "            printf(\"%c\", mystr[i] - 32);\n",
      "        }\n",
      "        printf(\"\\n\");\n",
      "        return 0;\n",
      "}\n",
      "\n",
      "The output:\n",
      "\n",
      "    )WISHITWASAPEROALREADY\n",
      "\n",
      "In Python"
     ]
    },
    {
     "cell_type": "code",
     "collapsed": false,
     "input": [
      "mystr = \"I wish it was apero already.\"\n",
      "print mystr.upper()"
     ],
     "language": "python",
     "metadata": {},
     "outputs": [
      {
       "output_type": "stream",
       "stream": "stdout",
       "text": [
        "I WISH IT WAS APERO ALREADY.\n"
       ]
      }
     ],
     "prompt_number": 17
    },
    {
     "cell_type": "markdown",
     "metadata": {},
     "source": [
      "* less to type,  [higher productivity](http://arxiv.org/pdf/1210.0530v3.pdf)\n",
      "* no explicit memory management\n",
      "* the underlying code can be still fast (written C, Fortran, etc.), but tested (by others), more general and probably faster than our naive implementation"
     ]
    },
    {
     "cell_type": "code",
     "collapsed": false,
     "input": [
      "print \"W\u00e1gner D\u00e1vid\".upper()"
     ],
     "language": "python",
     "metadata": {},
     "outputs": [
      {
       "output_type": "stream",
       "stream": "stdout",
       "text": [
        "W\u00e1GNER D\u00e1VID\n"
       ]
      }
     ],
     "prompt_number": 16
    },
    {
     "cell_type": "markdown",
     "metadata": {},
     "source": [
      "## Modules and namespaces\n",
      "\n",
      "### Simple import example\n",
      "Let's define a function to compute the area of a circle."
     ]
    },
    {
     "cell_type": "code",
     "collapsed": false,
     "input": [
      "def area(radius):\n",
      "    \"\"\" Compute the area of a circle given its radius.\"\"\"\n",
      "    return 2 * pi * radius**2"
     ],
     "language": "python",
     "metadata": {},
     "outputs": [],
     "prompt_number": 2
    },
    {
     "cell_type": "code",
     "collapsed": false,
     "input": [
      "print \"The area of a unit circle is\", area(1)"
     ],
     "language": "python",
     "metadata": {},
     "outputs": [
      {
       "ename": "NameError",
       "evalue": "global name 'pi' is not defined",
       "output_type": "pyerr",
       "traceback": [
        "\u001b[0;31m---------------------------------------------------------------------------\u001b[0m\n\u001b[0;31mNameError\u001b[0m                                 Traceback (most recent call last)",
        "\u001b[0;32m<ipython-input-3-3d3c77c01fce>\u001b[0m in \u001b[0;36m<module>\u001b[0;34m()\u001b[0m\n\u001b[0;32m----> 1\u001b[0;31m \u001b[0;32mprint\u001b[0m \u001b[0;34m\"The area of a unit circle is\"\u001b[0m\u001b[0;34m,\u001b[0m \u001b[0marea\u001b[0m\u001b[0;34m(\u001b[0m\u001b[0;36m1\u001b[0m\u001b[0;34m)\u001b[0m\u001b[0;34m\u001b[0m\u001b[0m\n\u001b[0m",
        "\u001b[0;32m<ipython-input-2-2d832e69a83a>\u001b[0m in \u001b[0;36marea\u001b[0;34m(radius)\u001b[0m\n\u001b[1;32m      1\u001b[0m \u001b[0;32mdef\u001b[0m \u001b[0marea\u001b[0m\u001b[0;34m(\u001b[0m\u001b[0mradius\u001b[0m\u001b[0;34m)\u001b[0m\u001b[0;34m:\u001b[0m\u001b[0;34m\u001b[0m\u001b[0m\n\u001b[1;32m      2\u001b[0m     \u001b[0;34m\"\"\" Compute the area of a circle given its radius.\"\"\"\u001b[0m\u001b[0;34m\u001b[0m\u001b[0m\n\u001b[0;32m----> 3\u001b[0;31m     \u001b[0;32mreturn\u001b[0m \u001b[0;36m2\u001b[0m \u001b[0;34m*\u001b[0m \u001b[0mpi\u001b[0m \u001b[0;34m*\u001b[0m \u001b[0mradius\u001b[0m\u001b[0;34m**\u001b[0m\u001b[0;36m2\u001b[0m\u001b[0;34m\u001b[0m\u001b[0m\n\u001b[0m",
        "\u001b[0;31mNameError\u001b[0m: global name 'pi' is not defined"
       ]
      },
      {
       "output_type": "stream",
       "stream": "stdout",
       "text": [
        "The area of a unit circle is"
       ]
      }
     ],
     "prompt_number": 3
    },
    {
     "cell_type": "code",
     "collapsed": false,
     "input": [
      "from math import pi  # pulls pi from the math module into the global namespace"
     ],
     "language": "python",
     "metadata": {},
     "outputs": []
    },
    {
     "cell_type": "code",
     "collapsed": false,
     "input": [
      "area(1)"
     ],
     "language": "python",
     "metadata": {},
     "outputs": []
    },
    {
     "cell_type": "markdown",
     "metadata": {},
     "source": [
      "Or import the whole module, if you want to use many functions"
     ]
    },
    {
     "cell_type": "code",
     "collapsed": false,
     "input": [
      "import math\n",
      "print \"sin(42) + \u03c0 is\", math.sin(42) + math.pi"
     ],
     "language": "python",
     "metadata": {},
     "outputs": [
      {
       "output_type": "stream",
       "stream": "stdout",
       "text": [
        "sin(42) + \u03c0 is 2.22507110567\n"
       ]
      }
     ],
     "prompt_number": 18
    },
    {
     "cell_type": "markdown",
     "metadata": {},
     "source": [
      "### The standard library\n",
      "Python comes with an extensive [standard library](http://docs.python.org/2/library/) (batteries included)."
     ]
    },
    {
     "cell_type": "code",
     "collapsed": false,
     "input": [
      "import webbrowser\n",
      "webbrowser.open('http://crpp.epfl.ch')"
     ],
     "language": "python",
     "metadata": {},
     "outputs": []
    },
    {
     "cell_type": "markdown",
     "metadata": {},
     "source": [
      "###Create your own modules\n",
      "\n",
      "Putting the <code>area</code> function in a separate file:\n",
      "\n",
      "     # circle.py\n",
      "     def area(radius):\n",
      "         \"\"\" Compute the area of a circle given its radius.\"\"\"\n",
      "         return 2 * pi * radius**2\n",
      "\n",
      "We can create packages."
     ]
    },
    {
     "cell_type": "code",
     "collapsed": false,
     "input": [
      "import circle\n",
      "circle.area(42)"
     ],
     "language": "python",
     "metadata": {},
     "outputs": [
      {
       "output_type": "pyout",
       "prompt_number": 19,
       "text": [
        "5541.769440932395"
       ]
      }
     ],
     "prompt_number": 19
    },
    {
     "cell_type": "markdown",
     "metadata": {},
     "source": [
      "## Simple plotting example\n",
      "\n",
      "We use some [Ipython magic](http://ipython.org/ipython-doc/dev/interactive/tutorial.html) to enter into *Pylab* mode, where some commonly used functions are places in the global namespace."
     ]
    },
    {
     "cell_type": "code",
     "collapsed": false,
     "input": [
      "%pylab inline\n",
      "%config InlineBackend.figure_format = 'svg'"
     ],
     "language": "python",
     "metadata": {},
     "outputs": []
    },
    {
     "cell_type": "code",
     "collapsed": true,
     "input": [
      "x = linspace(0, 1, 50)\n",
      "y = sin(x * 2 * pi)\n",
      "\n",
      "plot(x, y)\n",
      "xlabel('$x$')\n",
      "title('$f(x) = \\sin(2 \\pi x)$')\n",
      "\n",
      "annotate('zero point', (0.5, 0), xytext=(0.75, 0.5), arrowprops={'arrowstyle':'->'})"
     ],
     "language": "python",
     "metadata": {},
     "outputs": []
    },
    {
     "cell_type": "markdown",
     "metadata": {},
     "source": [
      "## Classes are easy"
     ]
    },
    {
     "cell_type": "code",
     "collapsed": false,
     "input": [
      "class Animal:\n",
      "    def __init__(self):\n",
      "        self.text = \"I'm just an animal.\"\n",
      "        \n",
      "    def speak(self):\n",
      "        print self.text"
     ],
     "language": "python",
     "metadata": {},
     "outputs": [],
     "prompt_number": 10
    },
    {
     "cell_type": "markdown",
     "metadata": {},
     "source": [
      "Let's create an instance of the <code>Animal</code> class, an object."
     ]
    },
    {
     "cell_type": "code",
     "collapsed": false,
     "input": [
      "a = Animal()\n",
      "a.speak()"
     ],
     "language": "python",
     "metadata": {},
     "outputs": [
      {
       "output_type": "stream",
       "stream": "stdout",
       "text": [
        "I'm just an animal.\n"
       ]
      }
     ],
     "prompt_number": 11
    },
    {
     "cell_type": "code",
     "collapsed": false,
     "input": [
      "class Dog(Animal):\n",
      "    def __init__(self):\n",
      "        self.text = 'Woof-woof.'\n",
      "        \n",
      "\n",
      "class Cat(Animal):\n",
      "    def __init__(self):\n",
      "        self.text = \"Meow.\"\n",
      "\n",
      "\n",
      "class Fish(Animal):\n",
      "    def __init__(self):\n",
      "        self.text = \"...\""
     ],
     "language": "python",
     "metadata": {},
     "outputs": [],
     "prompt_number": 7
    },
    {
     "cell_type": "code",
     "collapsed": false,
     "input": [
      "farm = [Dog(), Cat(), Fish()]  # a list of animals\n",
      "\n",
      "for animal in farm:\n",
      "    animal.speak()"
     ],
     "language": "python",
     "metadata": {},
     "outputs": [
      {
       "output_type": "stream",
       "stream": "stdout",
       "text": [
        "Woof-woof.\n",
        "Meow.\n",
        "...\n"
       ]
      }
     ],
     "prompt_number": 8
    },
    {
     "cell_type": "markdown",
     "metadata": {},
     "source": [
      "Any element of the list can speak"
     ]
    },
    {
     "cell_type": "code",
     "collapsed": false,
     "input": [
      "farm[0].speak()\n",
      "farm[1].speak()"
     ],
     "language": "python",
     "metadata": {},
     "outputs": [
      {
       "output_type": "stream",
       "stream": "stdout",
       "text": [
        "Woof-woof.\n",
        "Meow.\n"
       ]
      }
     ],
     "prompt_number": 12
    },
    {
     "cell_type": "markdown",
     "metadata": {},
     "source": [
      "What happens here? Explain with [www.pythontutor.com](http://pythontutor.com/visualize.html#code=class+Animal%3A%0A++++def+__init__(self)%3A%0A++++++++self.text+%3D+%22I'm+just+an+animal.%22%0A++++++++%0A++++def+speak(self)%3A%0A++++++++print+self.text%0A++++++++%0Aclass+Dog(Animal)%3A%0A++++def+__init__(self)%3A%0A++++++++self.text+%3D+'Woof-woof.'%0A%0A%0Adog+%3D+Dog()%0Adog.speak()&mode=display&cumulative=false&heapPrimitives=false&drawParentPointers=false&textReferences=false&py=2&curInstr=0)"
     ]
    },
    {
     "cell_type": "markdown",
     "metadata": {},
     "source": [
      "## Accessing TCV data\n",
      "\n",
      "There is a [Python binding for the MDSPlus library](http://www.mdsplus.org/mdsplus_download/python), and there is a CRPP toolbox (in Python!!!)."
     ]
    },
    {
     "cell_type": "code",
     "collapsed": false,
     "input": [
      "from crpp import tcvview"
     ],
     "language": "python",
     "metadata": {},
     "outputs": [
      {
       "ename": "ImportError",
       "evalue": "No module named crpp",
       "output_type": "pyerr",
       "traceback": [
        "\u001b[0;31m---------------------------------------------------------------------------\u001b[0m\n\u001b[0;31mImportError\u001b[0m                               Traceback (most recent call last)",
        "\u001b[0;32m<ipython-input-21-8a7757785b4e>\u001b[0m in \u001b[0;36m<module>\u001b[0;34m()\u001b[0m\n\u001b[0;32m----> 1\u001b[0;31m \u001b[0;32mfrom\u001b[0m \u001b[0mcrpp\u001b[0m \u001b[0;32mimport\u001b[0m \u001b[0mtcvview\u001b[0m\u001b[0;34m\u001b[0m\u001b[0m\n\u001b[0m",
        "\u001b[0;31mImportError\u001b[0m: No module named crpp"
       ]
      }
     ],
     "prompt_number": 21
    },
    {
     "cell_type": "code",
     "collapsed": false,
     "input": [],
     "language": "python",
     "metadata": {},
     "outputs": []
    }
   ],
   "metadata": {}
  }
 ]
}